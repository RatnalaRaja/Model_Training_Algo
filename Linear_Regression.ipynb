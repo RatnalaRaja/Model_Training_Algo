{
 "cells": [
  {
   "cell_type": "code",
   "execution_count": 1,
   "id": "475e4976",
   "metadata": {},
   "outputs": [
    {
     "name": "stdout",
     "output_type": "stream",
     "text": [
      "Collecting numpy\n",
      "  Downloading numpy-2.2.6-cp313-cp313-win_amd64.whl.metadata (60 kB)\n",
      "Downloading numpy-2.2.6-cp313-cp313-win_amd64.whl (12.6 MB)\n",
      "   ---------------------------------------- 0.0/12.6 MB ? eta -:--:--\n",
      "    --------------------------------------- 0.3/12.6 MB ? eta -:--:--\n",
      "   -- ------------------------------------- 0.8/12.6 MB 3.0 MB/s eta 0:00:04\n",
      "   ----- ---------------------------------- 1.8/12.6 MB 3.9 MB/s eta 0:00:03\n",
      "   -------- ------------------------------- 2.6/12.6 MB 4.0 MB/s eta 0:00:03\n",
      "   ----------- ---------------------------- 3.7/12.6 MB 4.4 MB/s eta 0:00:03\n",
      "   -------------- ------------------------- 4.7/12.6 MB 4.4 MB/s eta 0:00:02\n",
      "   ----------------- ---------------------- 5.5/12.6 MB 4.4 MB/s eta 0:00:02\n",
      "   -------------------- ------------------- 6.6/12.6 MB 4.4 MB/s eta 0:00:02\n",
      "   ------------------------ --------------- 7.9/12.6 MB 4.6 MB/s eta 0:00:02\n",
      "   ----------------------------- ---------- 9.2/12.6 MB 4.8 MB/s eta 0:00:01\n",
      "   -------------------------------- ------- 10.2/12.6 MB 4.9 MB/s eta 0:00:01\n",
      "   ----------------------------------- ---- 11.3/12.6 MB 4.8 MB/s eta 0:00:01\n",
      "   -------------------------------------- - 12.1/12.6 MB 4.8 MB/s eta 0:00:01\n",
      "   ---------------------------------------- 12.6/12.6 MB 4.7 MB/s eta 0:00:00\n",
      "Installing collected packages: numpy\n",
      "Successfully installed numpy-2.2.6\n",
      "Note: you may need to restart the kernel to use updated packages.\n"
     ]
    },
    {
     "name": "stderr",
     "output_type": "stream",
     "text": [
      "\n",
      "[notice] A new release of pip is available: 25.0.1 -> 25.1.1\n",
      "[notice] To update, run: python.exe -m pip install --upgrade pip\n"
     ]
    }
   ],
   "source": [
    "pip install numpy\n"
   ]
  },
  {
   "cell_type": "code",
   "execution_count": null,
   "id": "72804f7d",
   "metadata": {},
   "outputs": [],
   "source": []
  },
  {
   "cell_type": "code",
   "execution_count": 2,
   "id": "43c60156",
   "metadata": {},
   "outputs": [
    {
     "name": "stdout",
     "output_type": "stream",
     "text": [
      "Collecting seaborn\n",
      "  Using cached seaborn-0.13.2-py3-none-any.whl.metadata (5.4 kB)\n",
      "Requirement already satisfied: numpy!=1.24.0,>=1.20 in d:\\data science\\practicee\\model-training\\.venv\\lib\\site-packages (from seaborn) (2.2.6)\n",
      "Collecting pandas>=1.2 (from seaborn)\n",
      "  Using cached pandas-2.2.3-cp313-cp313-win_amd64.whl.metadata (19 kB)\n",
      "Collecting matplotlib!=3.6.1,>=3.4 (from seaborn)\n",
      "  Using cached matplotlib-3.10.3-cp313-cp313-win_amd64.whl.metadata (11 kB)\n",
      "Collecting contourpy>=1.0.1 (from matplotlib!=3.6.1,>=3.4->seaborn)\n",
      "  Using cached contourpy-1.3.2-cp313-cp313-win_amd64.whl.metadata (5.5 kB)\n",
      "Collecting cycler>=0.10 (from matplotlib!=3.6.1,>=3.4->seaborn)\n",
      "  Using cached cycler-0.12.1-py3-none-any.whl.metadata (3.8 kB)\n",
      "Collecting fonttools>=4.22.0 (from matplotlib!=3.6.1,>=3.4->seaborn)\n",
      "  Using cached fonttools-4.58.0-cp313-cp313-win_amd64.whl.metadata (106 kB)\n",
      "Collecting kiwisolver>=1.3.1 (from matplotlib!=3.6.1,>=3.4->seaborn)\n",
      "  Using cached kiwisolver-1.4.8-cp313-cp313-win_amd64.whl.metadata (6.3 kB)\n",
      "Requirement already satisfied: packaging>=20.0 in d:\\data science\\practicee\\model-training\\.venv\\lib\\site-packages (from matplotlib!=3.6.1,>=3.4->seaborn) (25.0)\n",
      "Collecting pillow>=8 (from matplotlib!=3.6.1,>=3.4->seaborn)\n",
      "  Using cached pillow-11.2.1-cp313-cp313-win_amd64.whl.metadata (9.1 kB)\n",
      "Collecting pyparsing>=2.3.1 (from matplotlib!=3.6.1,>=3.4->seaborn)\n",
      "  Using cached pyparsing-3.2.3-py3-none-any.whl.metadata (5.0 kB)\n",
      "Requirement already satisfied: python-dateutil>=2.7 in d:\\data science\\practicee\\model-training\\.venv\\lib\\site-packages (from matplotlib!=3.6.1,>=3.4->seaborn) (2.9.0.post0)\n",
      "Collecting pytz>=2020.1 (from pandas>=1.2->seaborn)\n",
      "  Using cached pytz-2025.2-py2.py3-none-any.whl.metadata (22 kB)\n",
      "Collecting tzdata>=2022.7 (from pandas>=1.2->seaborn)\n",
      "  Using cached tzdata-2025.2-py2.py3-none-any.whl.metadata (1.4 kB)\n",
      "Requirement already satisfied: six>=1.5 in d:\\data science\\practicee\\model-training\\.venv\\lib\\site-packages (from python-dateutil>=2.7->matplotlib!=3.6.1,>=3.4->seaborn) (1.17.0)\n",
      "Using cached seaborn-0.13.2-py3-none-any.whl (294 kB)\n",
      "Using cached matplotlib-3.10.3-cp313-cp313-win_amd64.whl (8.1 MB)\n",
      "Using cached pandas-2.2.3-cp313-cp313-win_amd64.whl (11.5 MB)\n",
      "Using cached contourpy-1.3.2-cp313-cp313-win_amd64.whl (223 kB)\n",
      "Using cached cycler-0.12.1-py3-none-any.whl (8.3 kB)\n",
      "Using cached fonttools-4.58.0-cp313-cp313-win_amd64.whl (2.2 MB)\n",
      "Using cached kiwisolver-1.4.8-cp313-cp313-win_amd64.whl (71 kB)\n",
      "Using cached pillow-11.2.1-cp313-cp313-win_amd64.whl (2.7 MB)\n",
      "Using cached pyparsing-3.2.3-py3-none-any.whl (111 kB)\n",
      "Using cached pytz-2025.2-py2.py3-none-any.whl (509 kB)\n",
      "Using cached tzdata-2025.2-py2.py3-none-any.whl (347 kB)\n",
      "Installing collected packages: pytz, tzdata, pyparsing, pillow, kiwisolver, fonttools, cycler, contourpy, pandas, matplotlib, seaborn\n",
      "Successfully installed contourpy-1.3.2 cycler-0.12.1 fonttools-4.58.0 kiwisolver-1.4.8 matplotlib-3.10.3 pandas-2.2.3 pillow-11.2.1 pyparsing-3.2.3 pytz-2025.2 seaborn-0.13.2 tzdata-2025.2\n",
      "Note: you may need to restart the kernel to use updated packages.\n"
     ]
    },
    {
     "name": "stderr",
     "output_type": "stream",
     "text": [
      "\n",
      "[notice] A new release of pip is available: 25.0.1 -> 25.1.1\n",
      "[notice] To update, run: python.exe -m pip install --upgrade pip\n"
     ]
    }
   ],
   "source": [
    "pip install seaborn"
   ]
  },
  {
   "cell_type": "code",
   "execution_count": 3,
   "id": "aeb85dd0",
   "metadata": {},
   "outputs": [
    {
     "name": "stdout",
     "output_type": "stream",
     "text": [
      "Requirement already satisfied: pandas in d:\\data science\\practicee\\model-training\\.venv\\lib\\site-packages (2.2.3)\n",
      "Requirement already satisfied: numpy>=1.26.0 in d:\\data science\\practicee\\model-training\\.venv\\lib\\site-packages (from pandas) (2.2.6)\n",
      "Requirement already satisfied: python-dateutil>=2.8.2 in d:\\data science\\practicee\\model-training\\.venv\\lib\\site-packages (from pandas) (2.9.0.post0)\n",
      "Requirement already satisfied: pytz>=2020.1 in d:\\data science\\practicee\\model-training\\.venv\\lib\\site-packages (from pandas) (2025.2)\n",
      "Requirement already satisfied: tzdata>=2022.7 in d:\\data science\\practicee\\model-training\\.venv\\lib\\site-packages (from pandas) (2025.2)\n",
      "Requirement already satisfied: six>=1.5 in d:\\data science\\practicee\\model-training\\.venv\\lib\\site-packages (from python-dateutil>=2.8.2->pandas) (1.17.0)\n",
      "Note: you may need to restart the kernel to use updated packages.\n"
     ]
    },
    {
     "name": "stderr",
     "output_type": "stream",
     "text": [
      "\n",
      "[notice] A new release of pip is available: 25.0.1 -> 25.1.1\n",
      "[notice] To update, run: python.exe -m pip install --upgrade pip\n"
     ]
    }
   ],
   "source": [
    "pip install pandas"
   ]
  },
  {
   "cell_type": "code",
   "execution_count": 4,
   "id": "ff707d40",
   "metadata": {},
   "outputs": [
    {
     "name": "stdout",
     "output_type": "stream",
     "text": [
      "Requirement already satisfied: matplotlib in d:\\data science\\practicee\\model-training\\.venv\\lib\\site-packages (3.10.3)\n",
      "Requirement already satisfied: contourpy>=1.0.1 in d:\\data science\\practicee\\model-training\\.venv\\lib\\site-packages (from matplotlib) (1.3.2)\n",
      "Requirement already satisfied: cycler>=0.10 in d:\\data science\\practicee\\model-training\\.venv\\lib\\site-packages (from matplotlib) (0.12.1)\n",
      "Requirement already satisfied: fonttools>=4.22.0 in d:\\data science\\practicee\\model-training\\.venv\\lib\\site-packages (from matplotlib) (4.58.0)\n",
      "Requirement already satisfied: kiwisolver>=1.3.1 in d:\\data science\\practicee\\model-training\\.venv\\lib\\site-packages (from matplotlib) (1.4.8)\n",
      "Requirement already satisfied: numpy>=1.23 in d:\\data science\\practicee\\model-training\\.venv\\lib\\site-packages (from matplotlib) (2.2.6)\n",
      "Requirement already satisfied: packaging>=20.0 in d:\\data science\\practicee\\model-training\\.venv\\lib\\site-packages (from matplotlib) (25.0)\n",
      "Requirement already satisfied: pillow>=8 in d:\\data science\\practicee\\model-training\\.venv\\lib\\site-packages (from matplotlib) (11.2.1)\n",
      "Requirement already satisfied: pyparsing>=2.3.1 in d:\\data science\\practicee\\model-training\\.venv\\lib\\site-packages (from matplotlib) (3.2.3)\n",
      "Requirement already satisfied: python-dateutil>=2.7 in d:\\data science\\practicee\\model-training\\.venv\\lib\\site-packages (from matplotlib) (2.9.0.post0)\n",
      "Requirement already satisfied: six>=1.5 in d:\\data science\\practicee\\model-training\\.venv\\lib\\site-packages (from python-dateutil>=2.7->matplotlib) (1.17.0)\n",
      "Note: you may need to restart the kernel to use updated packages.\n"
     ]
    },
    {
     "name": "stderr",
     "output_type": "stream",
     "text": [
      "\n",
      "[notice] A new release of pip is available: 25.0.1 -> 25.1.1\n",
      "[notice] To update, run: python.exe -m pip install --upgrade pip\n"
     ]
    }
   ],
   "source": [
    "pip install matplotlib"
   ]
  },
  {
   "cell_type": "code",
   "execution_count": 5,
   "id": "896f7816",
   "metadata": {},
   "outputs": [
    {
     "name": "stdout",
     "output_type": "stream",
     "text": [
      "Collecting sklearn\n",
      "  Using cached sklearn-0.0.post12.tar.gz (2.6 kB)\n",
      "  Installing build dependencies: started\n",
      "  Installing build dependencies: finished with status 'done'\n",
      "  Getting requirements to build wheel: started\n",
      "  Getting requirements to build wheel: finished with status 'error'\n",
      "Note: you may need to restart the kernel to use updated packages.\n"
     ]
    },
    {
     "name": "stderr",
     "output_type": "stream",
     "text": [
      "  error: subprocess-exited-with-error\n",
      "  \n",
      "  × Getting requirements to build wheel did not run successfully.\n",
      "  │ exit code: 1\n",
      "  ╰─> [15 lines of output]\n",
      "      The 'sklearn' PyPI package is deprecated, use 'scikit-learn'\n",
      "      rather than 'sklearn' for pip commands.\n",
      "      \n",
      "      Here is how to fix this error in the main use cases:\n",
      "      - use 'pip install scikit-learn' rather than 'pip install sklearn'\n",
      "      - replace 'sklearn' by 'scikit-learn' in your pip requirements files\n",
      "        (requirements.txt, setup.py, setup.cfg, Pipfile, etc ...)\n",
      "      - if the 'sklearn' package is used by one of your dependencies,\n",
      "        it would be great if you take some time to track which package uses\n",
      "        'sklearn' instead of 'scikit-learn' and report it to their issue tracker\n",
      "      - as a last resort, set the environment variable\n",
      "        SKLEARN_ALLOW_DEPRECATED_SKLEARN_PACKAGE_INSTALL=True to avoid this error\n",
      "      \n",
      "      More information is available at\n",
      "      https://github.com/scikit-learn/sklearn-pypi-package\n",
      "      [end of output]\n",
      "  \n",
      "  note: This error originates from a subprocess, and is likely not a problem with pip.\n",
      "\n",
      "[notice] A new release of pip is available: 25.0.1 -> 25.1.1\n",
      "[notice] To update, run: python.exe -m pip install --upgrade pip\n",
      "error: subprocess-exited-with-error\n",
      "\n",
      "× Getting requirements to build wheel did not run successfully.\n",
      "│ exit code: 1\n",
      "╰─> See above for output.\n",
      "\n",
      "note: This error originates from a subprocess, and is likely not a problem with pip.\n"
     ]
    }
   ],
   "source": [
    "pip install sklearn"
   ]
  },
  {
   "cell_type": "code",
   "execution_count": 6,
   "id": "7071d341",
   "metadata": {},
   "outputs": [
    {
     "name": "stdout",
     "output_type": "stream",
     "text": [
      "Collecting scikit-learn\n",
      "  Using cached scikit_learn-1.6.1-cp313-cp313-win_amd64.whl.metadata (15 kB)\n",
      "Requirement already satisfied: numpy>=1.19.5 in d:\\data science\\practicee\\model-training\\.venv\\lib\\site-packages (from scikit-learn) (2.2.6)\n",
      "Collecting scipy>=1.6.0 (from scikit-learn)\n",
      "  Using cached scipy-1.15.3-cp313-cp313-win_amd64.whl.metadata (60 kB)\n",
      "Collecting joblib>=1.2.0 (from scikit-learn)\n",
      "  Using cached joblib-1.5.0-py3-none-any.whl.metadata (5.6 kB)\n",
      "Collecting threadpoolctl>=3.1.0 (from scikit-learn)\n",
      "  Using cached threadpoolctl-3.6.0-py3-none-any.whl.metadata (13 kB)\n",
      "Using cached scikit_learn-1.6.1-cp313-cp313-win_amd64.whl (11.1 MB)\n",
      "Using cached joblib-1.5.0-py3-none-any.whl (307 kB)\n",
      "Using cached scipy-1.15.3-cp313-cp313-win_amd64.whl (41.0 MB)\n",
      "Using cached threadpoolctl-3.6.0-py3-none-any.whl (18 kB)\n",
      "Installing collected packages: threadpoolctl, scipy, joblib, scikit-learn\n",
      "Successfully installed joblib-1.5.0 scikit-learn-1.6.1 scipy-1.15.3 threadpoolctl-3.6.0\n",
      "Note: you may need to restart the kernel to use updated packages.\n"
     ]
    },
    {
     "name": "stderr",
     "output_type": "stream",
     "text": [
      "\n",
      "[notice] A new release of pip is available: 25.0.1 -> 25.1.1\n",
      "[notice] To update, run: python.exe -m pip install --upgrade pip\n"
     ]
    }
   ],
   "source": [
    "pip install scikit-learn"
   ]
  },
  {
   "cell_type": "markdown",
   "id": "cacfbb78",
   "metadata": {},
   "source": [
    "## Simple Linear Regression"
   ]
  },
  {
   "cell_type": "code",
   "execution_count": 2,
   "id": "983841d5",
   "metadata": {},
   "outputs": [],
   "source": [
    "import numpy as np\n",
    "import pandas as pd\n",
    "import matplotlib.pyplot as plt\n",
    "%matplotlib inline"
   ]
  },
  {
   "cell_type": "markdown",
   "id": "4fe61c7d",
   "metadata": {},
   "source": [
    "### Reading The dataset"
   ]
  },
  {
   "cell_type": "code",
   "execution_count": 3,
   "id": "a6aa945c",
   "metadata": {},
   "outputs": [],
   "source": [
    "df=pd.read_csv(\"height_weight_600_kg_feet.csv\")"
   ]
  },
  {
   "cell_type": "code",
   "execution_count": 4,
   "id": "94459fd6",
   "metadata": {},
   "outputs": [
    {
     "data": {
      "text/html": [
       "<div>\n",
       "<style scoped>\n",
       "    .dataframe tbody tr th:only-of-type {\n",
       "        vertical-align: middle;\n",
       "    }\n",
       "\n",
       "    .dataframe tbody tr th {\n",
       "        vertical-align: top;\n",
       "    }\n",
       "\n",
       "    .dataframe thead th {\n",
       "        text-align: right;\n",
       "    }\n",
       "</style>\n",
       "<table border=\"1\" class=\"dataframe\">\n",
       "  <thead>\n",
       "    <tr style=\"text-align: right;\">\n",
       "      <th></th>\n",
       "      <th>Weight</th>\n",
       "      <th>Height</th>\n",
       "    </tr>\n",
       "  </thead>\n",
       "  <tbody>\n",
       "    <tr>\n",
       "      <th>0</th>\n",
       "      <td>71.20</td>\n",
       "      <td>5.84</td>\n",
       "    </tr>\n",
       "    <tr>\n",
       "      <th>1</th>\n",
       "      <td>67.82</td>\n",
       "      <td>5.78</td>\n",
       "    </tr>\n",
       "    <tr>\n",
       "      <th>2</th>\n",
       "      <td>78.80</td>\n",
       "      <td>5.33</td>\n",
       "    </tr>\n",
       "    <tr>\n",
       "      <th>3</th>\n",
       "      <td>84.84</td>\n",
       "      <td>5.67</td>\n",
       "    </tr>\n",
       "    <tr>\n",
       "      <th>4</th>\n",
       "      <td>76.07</td>\n",
       "      <td>5.63</td>\n",
       "    </tr>\n",
       "  </tbody>\n",
       "</table>\n",
       "</div>"
      ],
      "text/plain": [
       "   Weight  Height\n",
       "0   71.20    5.84\n",
       "1   67.82    5.78\n",
       "2   78.80    5.33\n",
       "3   84.84    5.67\n",
       "4   76.07    5.63"
      ]
     },
     "execution_count": 4,
     "metadata": {},
     "output_type": "execute_result"
    }
   ],
   "source": [
    "df.head()"
   ]
  },
  {
   "cell_type": "code",
   "execution_count": 5,
   "id": "ad44b92a",
   "metadata": {},
   "outputs": [
    {
     "name": "stdout",
     "output_type": "stream",
     "text": [
      "['Weight', 'Height']\n"
     ]
    }
   ],
   "source": [
    "print(df.columns.tolist())\n"
   ]
  },
  {
   "cell_type": "code",
   "execution_count": 6,
   "id": "a00fa489",
   "metadata": {},
   "outputs": [],
   "source": [
    "df.columns = df.columns.str.strip()\n"
   ]
  },
  {
   "cell_type": "code",
   "execution_count": 7,
   "id": "f552b21f",
   "metadata": {},
   "outputs": [
    {
     "data": {
      "text/plain": [
       "(600, 2)"
      ]
     },
     "execution_count": 7,
     "metadata": {},
     "output_type": "execute_result"
    }
   ],
   "source": [
    "df.shape"
   ]
  },
  {
   "cell_type": "code",
   "execution_count": 8,
   "id": "1f0512e3",
   "metadata": {},
   "outputs": [
    {
     "data": {
      "text/plain": [
       "Text(0, 0.5, 'Height')"
      ]
     },
     "execution_count": 8,
     "metadata": {},
     "output_type": "execute_result"
    },
    {
     "data": {
      "image/png": "[encoded data removed]",
      "text/plain": [
       "<Figure size 640x480 with 1 Axes>"
      ]
     },
     "metadata": {},
     "output_type": "display_data"
    }
   ],
   "source": [
    "plt.scatter(df['Weight' ],df['Height'])\n",
    "plt.xlabel(\"Weight\")\n",
    "plt.ylabel(\"Height\")"
   ]
  },
  {
   "cell_type": "markdown",
   "id": "5f5d7039",
   "metadata": {},
   "source": [
    "#### Divide the dataset into independent and dependent features"
   ]
  },
  {
   "cell_type": "code",
   "execution_count": 9,
   "id": "45c8949e",
   "metadata": {},
   "outputs": [],
   "source": [
    "X=df[['Weight']] ##Independent feature\n",
    "Y=df['Height']  ## dependent feature"
   ]
  },
  {
   "cell_type": "code",
   "execution_count": 10,
   "id": "17b3ce51",
   "metadata": {},
   "outputs": [
    {
     "data": {
      "text/html": [
       "<div>\n",
       "<style scoped>\n",
       "    .dataframe tbody tr th:only-of-type {\n",
       "        vertical-align: middle;\n",
       "    }\n",
       "\n",
       "    .dataframe tbody tr th {\n",
       "        vertical-align: top;\n",
       "    }\n",
       "\n",
       "    .dataframe thead th {\n",
       "        text-align: right;\n",
       "    }\n",
       "</style>\n",
       "<table border=\"1\" class=\"dataframe\">\n",
       "  <thead>\n",
       "    <tr style=\"text-align: right;\">\n",
       "      <th></th>\n",
       "      <th>Weight</th>\n",
       "    </tr>\n",
       "  </thead>\n",
       "  <tbody>\n",
       "    <tr>\n",
       "      <th>0</th>\n",
       "      <td>71.20</td>\n",
       "    </tr>\n",
       "    <tr>\n",
       "      <th>1</th>\n",
       "      <td>67.82</td>\n",
       "    </tr>\n",
       "    <tr>\n",
       "      <th>2</th>\n",
       "      <td>78.80</td>\n",
       "    </tr>\n",
       "    <tr>\n",
       "      <th>3</th>\n",
       "      <td>84.84</td>\n",
       "    </tr>\n",
       "    <tr>\n",
       "      <th>4</th>\n",
       "      <td>76.07</td>\n",
       "    </tr>\n",
       "    <tr>\n",
       "      <th>...</th>\n",
       "      <td>...</td>\n",
       "    </tr>\n",
       "    <tr>\n",
       "      <th>595</th>\n",
       "      <td>57.79</td>\n",
       "    </tr>\n",
       "    <tr>\n",
       "      <th>596</th>\n",
       "      <td>59.27</td>\n",
       "    </tr>\n",
       "    <tr>\n",
       "      <th>597</th>\n",
       "      <td>67.10</td>\n",
       "    </tr>\n",
       "    <tr>\n",
       "      <th>598</th>\n",
       "      <td>61.62</td>\n",
       "    </tr>\n",
       "    <tr>\n",
       "      <th>599</th>\n",
       "      <td>69.05</td>\n",
       "    </tr>\n",
       "  </tbody>\n",
       "</table>\n",
       "<p>600 rows × 1 columns</p>\n",
       "</div>"
      ],
      "text/plain": [
       "     Weight\n",
       "0     71.20\n",
       "1     67.82\n",
       "2     78.80\n",
       "3     84.84\n",
       "4     76.07\n",
       "..      ...\n",
       "595   57.79\n",
       "596   59.27\n",
       "597   67.10\n",
       "598   61.62\n",
       "599   69.05\n",
       "\n",
       "[600 rows x 1 columns]"
      ]
     },
     "execution_count": 10,
     "metadata": {},
     "output_type": "execute_result"
    }
   ],
   "source": [
    "X"
   ]
  },
  {
   "cell_type": "code",
   "execution_count": 11,
   "id": "47d555c6",
   "metadata": {},
   "outputs": [
    {
     "data": {
      "text/plain": [
       "0      5.84\n",
       "1      5.78\n",
       "2      5.33\n",
       "3      5.67\n",
       "4      5.63\n",
       "       ... \n",
       "595    5.26\n",
       "596    5.57\n",
       "597    6.35\n",
       "598    5.29\n",
       "599    5.40\n",
       "Name: Height, Length: 600, dtype: float64"
      ]
     },
     "execution_count": 11,
     "metadata": {},
     "output_type": "execute_result"
    }
   ],
   "source": [
    "Y"
   ]
  },
  {
   "cell_type": "code",
   "execution_count": 13,
   "id": "54273442",
   "metadata": {},
   "outputs": [],
   "source": [
    "from sklearn.model_selection import train_test_split\n",
    "\n",
    "X_train, X_test, Y_train, Y_test = train_test_split(X, Y, test_size=0.20, random_state=42)\n"
   ]
  },
  {
   "cell_type": "code",
   "execution_count": 14,
   "id": "91193306",
   "metadata": {},
   "outputs": [
    {
     "data": {
      "text/plain": [
       "((480, 1), (120, 1))"
      ]
     },
     "execution_count": 14,
     "metadata": {},
     "output_type": "execute_result"
    }
   ],
   "source": [
    "X_train.shape,X_test.shape"
   ]
  },
  {
   "cell_type": "markdown",
   "id": "21d1eb65",
   "metadata": {},
   "source": [
    "#### Standardizing the dataset train independent data"
   ]
  },
  {
   "cell_type": "markdown",
   "id": "5fdc61b1",
   "metadata": {},
   "source": [
    "#"
   ]
  },
  {
   "cell_type": "code",
   "execution_count": 15,
   "id": "8b646407",
   "metadata": {},
   "outputs": [],
   "source": [
    "from sklearn.preprocessing import StandardScaler"
   ]
  },
  {
   "cell_type": "code",
   "execution_count": 16,
   "id": "35b10d47",
   "metadata": {},
   "outputs": [],
   "source": [
    "scaler=StandardScaler()"
   ]
  },
  {
   "cell_type": "code",
   "execution_count": null,
   "id": "b294d31e",
   "metadata": {},
   "outputs": [
    {
     "data": {
      "text/plain": [
       "array([[ 1.18307522],\n",
       "       [-0.05941416],\n",
       "       [-0.71038348],\n",
       "       [ 0.39240016],\n",
       "       [ 2.01437394],\n",
       "       [ 1.15434142],\n",
       "       [ 1.60516492],\n",
       "       [ 0.41617986],\n",
       "       [-1.18894996],\n",
       "       [-0.36062371],\n",
       "       [ 0.13082345],\n",
       "       [ 0.9115903 ],\n",
       "       [-0.09409289],\n",
       "       [ 0.15163069],\n",
       "       [-1.50601265],\n",
       "       [-1.02348288],\n",
       "       [-1.03339109],\n",
       "       [-0.60040236],\n",
       "       [ 0.30124464],\n",
       "       [-1.19984899],\n",
       "       [-0.25064259],\n",
       "       [ 0.44689531],\n",
       "       [ 0.12686016],\n",
       "       [-0.3318899 ],\n",
       "       [-0.7777593 ],\n",
       "       [-0.16741364],\n",
       "       [-0.24667931],\n",
       "       [-0.70443855],\n",
       "       [-0.25460587],\n",
       "       [ 0.08425487],\n",
       "       [-0.33585319],\n",
       "       [-0.74506221],\n",
       "       [-1.05816161],\n",
       "       [-0.57959512],\n",
       "       [ 1.5615688 ],\n",
       "       [-0.86693318],\n",
       "       [-1.08293213],\n",
       "       [ 1.1156994 ],\n",
       "       [ 0.47166583],\n",
       "       [-1.43665518],\n",
       "       [ 1.30692783],\n",
       "       [ 0.72333433],\n",
       "       [-0.59049415],\n",
       "       [-1.74083719],\n",
       "       [-1.17111519],\n",
       "       [-0.31207349],\n",
       "       [-0.97493265],\n",
       "       [-0.53005408],\n",
       "       [-1.56248944],\n",
       "       [ 0.29529971],\n",
       "       [-1.82604779],\n",
       "       [ 0.23981374],\n",
       "       [-2.12923898],\n",
       "       [-0.2417252 ],\n",
       "       [-0.23578028],\n",
       "       [ 0.88880142],\n",
       "       [ 0.76792127],\n",
       "       [-1.49709526],\n",
       "       [-0.63309945],\n",
       "       [ 0.77981112],\n",
       "       [-1.39206824],\n",
       "       [-0.84513512],\n",
       "       [-0.12877162],\n",
       "       [-1.57735175],\n",
       "       [-1.37918757],\n",
       "       [ 1.18406604],\n",
       "       [-1.1384181 ],\n",
       "       [ 0.8402512 ],\n",
       "       [ 0.15460315],\n",
       "       [-0.74308057],\n",
       "       [-0.46267826],\n",
       "       [-1.28803205],\n",
       "       [-0.34278893],\n",
       "       [-0.8867496 ],\n",
       "       [ 1.61110984],\n",
       "       [-0.82333706],\n",
       "       [ 0.58164695],\n",
       "       [-2.16094525],\n",
       "       [-0.11688177],\n",
       "       [-1.79830481],\n",
       "       [-0.1892117 ],\n",
       "       [ 0.49346389],\n",
       "       [-0.80946557],\n",
       "       [ 1.88853969],\n",
       "       [-0.93133654],\n",
       "       [-0.66579654],\n",
       "       [ 0.98193858],\n",
       "       [ 0.84619612],\n",
       "       [-0.21001893],\n",
       "       [ 0.02975972],\n",
       "       [-0.90557519],\n",
       "       [ 0.39834509],\n",
       "       [ 2.00941984],\n",
       "       [ 0.70153627],\n",
       "       [-0.49438453],\n",
       "       [ 1.34854231],\n",
       "       [ 0.77981112],\n",
       "       [ 0.08227322],\n",
       "       [ 0.79665508],\n",
       "       [-0.6212096 ],\n",
       "       [ 1.36340462],\n",
       "       [-0.02869871],\n",
       "       [-0.52212751],\n",
       "       [ 0.87988403],\n",
       "       [ 0.71144448],\n",
       "       [-0.37251356],\n",
       "       [-0.52708162],\n",
       "       [ 0.12289688],\n",
       "       [-1.28307795],\n",
       "       [-0.25262423],\n",
       "       [-1.51294839],\n",
       "       [ 0.61830732],\n",
       "       [ 0.33592337],\n",
       "       [ 0.24080457],\n",
       "       [ 1.17118537],\n",
       "       [-0.88774042],\n",
       "       [-0.33684401],\n",
       "       [ 1.09687381],\n",
       "       [ 0.2517036 ],\n",
       "       [-0.36855028],\n",
       "       [ 2.20857483],\n",
       "       [-0.867924  ],\n",
       "       [-1.13049153],\n",
       "       [-0.3457614 ],\n",
       "       [-1.636801  ],\n",
       "       [-1.0532075 ],\n",
       "       [-0.26748655],\n",
       "       [-0.35765125],\n",
       "       [-0.9580887 ],\n",
       "       [ 0.04660367],\n",
       "       [-1.48619623],\n",
       "       [-0.93827228],\n",
       "       [ 0.09317225],\n",
       "       [-0.04851513],\n",
       "       [-0.94917131],\n",
       "       [-0.59544826],\n",
       "       [ 2.2828864 ],\n",
       "       [ 0.50238128],\n",
       "       [-1.64274593],\n",
       "       [-1.29794026],\n",
       "       [ 0.69360971],\n",
       "       [ 1.01364485],\n",
       "       [ 0.55291314],\n",
       "       [-0.34179811],\n",
       "       [ 2.47708729],\n",
       "       [-0.33585319],\n",
       "       [-1.73687391],\n",
       "       [ 0.50535374],\n",
       "       [ 0.97004873],\n",
       "       [ 1.25243268],\n",
       "       [ 0.06939255],\n",
       "       [ 0.15757561],\n",
       "       [-0.09409289],\n",
       "       [ 0.73225172],\n",
       "       [-1.36828854],\n",
       "       [ 0.93933329],\n",
       "       [ 1.43672537],\n",
       "       [-1.51988414],\n",
       "       [-0.25460587],\n",
       "       [-1.13544564],\n",
       "       [-1.12553743],\n",
       "       [ 1.43573455],\n",
       "       [ 0.70649038],\n",
       "       [ 2.38989505],\n",
       "       [ 1.08102067],\n",
       "       [-0.44484348],\n",
       "       [-0.22785371],\n",
       "       [-0.34873386],\n",
       "       [-1.99448734],\n",
       "       [-0.91350176],\n",
       "       [ 1.29999209],\n",
       "       [ 0.06146599],\n",
       "       [ 1.71217357],\n",
       "       [ 0.13775919],\n",
       "       [-0.81541049],\n",
       "       [ 0.50436292],\n",
       "       [ 0.23089636],\n",
       "       [ 0.85214105],\n",
       "       [-0.62715453],\n",
       "       [-1.14535385],\n",
       "       [ 1.09390134],\n",
       "       [ 0.41915232],\n",
       "       [-1.1859775 ],\n",
       "       [-1.4941228 ],\n",
       "       [ 0.68072904],\n",
       "       [-1.21669295],\n",
       "       [ 0.35375815],\n",
       "       [ 0.53507837],\n",
       "       [-0.96997855],\n",
       "       [ 0.87096665],\n",
       "       [ 0.32403352],\n",
       "       [ 2.14318065],\n",
       "       [-0.69948445],\n",
       "       [-0.31207349],\n",
       "       [-0.06436827],\n",
       "       [-0.71533758],\n",
       "       [ 0.05056696],\n",
       "       [ 0.13082345],\n",
       "       [-0.96700609],\n",
       "       [ 0.37456538],\n",
       "       [-1.39900399],\n",
       "       [-0.38440341],\n",
       "       [-0.41115557],\n",
       "       [-0.38143095],\n",
       "       [-0.71434676],\n",
       "       [-0.94322639],\n",
       "       [ 1.30692783],\n",
       "       [-0.49042124],\n",
       "       [-0.98781333],\n",
       "       [ 1.03346127],\n",
       "       [ 1.45852343],\n",
       "       [-0.59941154],\n",
       "       [ 0.62524307],\n",
       "       [ 1.58138522],\n",
       "       [-0.82234624],\n",
       "       [ 0.39537262],\n",
       "       [ 1.99653916],\n",
       "       [-0.04257021],\n",
       "       [-0.37647684],\n",
       "       [-0.09012961],\n",
       "       [ 0.83628791],\n",
       "       [ 1.52986253],\n",
       "       [ 0.20018091],\n",
       "       [-0.41908214],\n",
       "       [-1.15228959],\n",
       "       [ 0.15460315],\n",
       "       [ 1.4238447 ],\n",
       "       [ 0.48850979],\n",
       "       [-0.73317236],\n",
       "       [ 0.97698448],\n",
       "       [ 1.65371514],\n",
       "       [ 0.58065613],\n",
       "       [-0.95214377],\n",
       "       [ 0.61335322],\n",
       "       [ 0.40924411],\n",
       "       [ 0.71342613],\n",
       "       [-1.54267302],\n",
       "       [-0.72326415],\n",
       "       [ 0.02579643],\n",
       "       [-0.7163284 ],\n",
       "       [ 1.67650402],\n",
       "       [ 0.17243792],\n",
       "       [ 0.24476785],\n",
       "       [-0.17236774],\n",
       "       [-0.74308057],\n",
       "       [ 2.53653654],\n",
       "       [-0.21596386],\n",
       "       [-1.03636355],\n",
       "       [-0.53798065],\n",
       "       [ 0.03966793],\n",
       "       [-0.83027281],\n",
       "       [-0.46862318],\n",
       "       [ 1.00968157],\n",
       "       [ 0.73621501],\n",
       "       [ 0.12289688],\n",
       "       [ 0.50436292],\n",
       "       [ 1.04634194],\n",
       "       [-1.64869085],\n",
       "       [-0.20110155],\n",
       "       [-1.60212227],\n",
       "       [ 1.001755  ],\n",
       "       [ 0.18928188],\n",
       "       [-0.54095311],\n",
       "       [ 0.83529709],\n",
       "       [ 0.17838285],\n",
       "       [ 0.83727874],\n",
       "       [-1.05816161],\n",
       "       [-1.19390407],\n",
       "       [ 0.31907941],\n",
       "       [-0.80451146],\n",
       "       [-0.39232998],\n",
       "       [-1.18696832],\n",
       "       [-0.3507155 ],\n",
       "       [ 0.76593963],\n",
       "       [-0.78568587],\n",
       "       [-0.64697094],\n",
       "       [ 1.02355306],\n",
       "       [-0.58653087],\n",
       "       [ 0.27152001],\n",
       "       [ 2.98835087],\n",
       "       [ 1.16623127],\n",
       "       [-0.89368534],\n",
       "       [-1.37621511],\n",
       "       [ 0.24080457],\n",
       "       [-1.01159303],\n",
       "       [ 1.1771303 ],\n",
       "       [-0.39431162],\n",
       "       [-0.165432  ],\n",
       "       [-0.6925487 ],\n",
       "       [ 0.7124353 ],\n",
       "       [-1.33360981],\n",
       "       [-0.80252982],\n",
       "       [-0.34675222],\n",
       "       [ 1.7656779 ],\n",
       "       [ 0.72036187],\n",
       "       [ 0.97103955],\n",
       "       [ 0.23188718],\n",
       "       [ 0.90366373],\n",
       "       [-0.76289699],\n",
       "       [-0.12579916],\n",
       "       [-1.62689279],\n",
       "       [-1.52186578],\n",
       "       [-0.53401736],\n",
       "       [ 0.24278621],\n",
       "       [ 2.24226274],\n",
       "       [-1.45944406],\n",
       "       [ 1.50112872],\n",
       "       [-1.43962765],\n",
       "       [-1.30784847],\n",
       "       [-0.66777818],\n",
       "       [-0.42403625],\n",
       "       [-0.30216528],\n",
       "       [ 2.61580221],\n",
       "       [ 0.25368524],\n",
       "       [-0.56374199],\n",
       "       [-0.76586945],\n",
       "       [-1.31181175],\n",
       "       [-0.28829378],\n",
       "       [ 0.12190606],\n",
       "       [-0.5736502 ],\n",
       "       [ 1.04237866],\n",
       "       [-0.27739475],\n",
       "       [ 0.45184941],\n",
       "       [-0.40719229],\n",
       "       [ 0.69658217],\n",
       "       [ 0.7124353 ],\n",
       "       [-0.57761348],\n",
       "       [ 0.58660105],\n",
       "       [ 2.32945498],\n",
       "       [-0.78370422],\n",
       "       [ 0.033723  ],\n",
       "       [ 1.21874477],\n",
       "       [-1.09779444],\n",
       "       [-0.82630952],\n",
       "       [-1.3375731 ],\n",
       "       [-0.26946819],\n",
       "       [ 0.37753785],\n",
       "       [ 0.55291314],\n",
       "       [-0.02968953],\n",
       "       [ 1.14542403],\n",
       "       [-0.02374461],\n",
       "       [-0.7777593 ],\n",
       "       [-0.40917393],\n",
       "       [-0.02176297],\n",
       "       [ 0.21900651],\n",
       "       [-1.6318469 ],\n",
       "       [-0.099047  ],\n",
       "       [-1.570416  ],\n",
       "       [-0.5260908 ],\n",
       "       [ 0.6886556 ],\n",
       "       [ 0.67280247],\n",
       "       [-0.41313722],\n",
       "       [-0.86197907],\n",
       "       [-1.00465728],\n",
       "       [-0.21893632],\n",
       "       [ 0.88880142],\n",
       "       [-0.5974299 ],\n",
       "       [-0.48051304],\n",
       "       [ 2.02130969],\n",
       "       [ 0.56678463],\n",
       "       [ 0.01786987],\n",
       "       [ 0.83529709],\n",
       "       [ 0.9591497 ],\n",
       "       [ 0.71639859],\n",
       "       [ 1.3148544 ],\n",
       "       [ 1.31089112],\n",
       "       [ 0.96608545],\n",
       "       [-0.77577766],\n",
       "       [ 0.48157404],\n",
       "       [ 0.54003247],\n",
       "       [ 0.98590187],\n",
       "       [-1.31775668],\n",
       "       [-1.86369898],\n",
       "       [ 1.46942246],\n",
       "       [ 0.18135531],\n",
       "       [-0.23082617],\n",
       "       [-0.08319386],\n",
       "       [ 1.3812394 ],\n",
       "       [-0.47159565],\n",
       "       [ 0.10407128],\n",
       "       [ 0.51526195],\n",
       "       [ 0.3468224 ],\n",
       "       [ 0.28638233],\n",
       "       [ 2.38593177],\n",
       "       [-0.28234886],\n",
       "       [-0.78172258],\n",
       "       [-0.24271602],\n",
       "       [-0.26352326],\n",
       "       [ 0.04660367],\n",
       "       [ 1.61705477],\n",
       "       [-0.66084244],\n",
       "       [-0.13372573],\n",
       "       [-0.44484348],\n",
       "       [ 0.84817776],\n",
       "       [ 2.65642587],\n",
       "       [-0.07724894],\n",
       "       [ 0.41023494],\n",
       "       [-0.867924  ],\n",
       "       [-0.08418468],\n",
       "       [-1.12157414],\n",
       "       [-0.8917037 ],\n",
       "       [ 2.04707103],\n",
       "       [-0.71831005],\n",
       "       [-0.04653349],\n",
       "       [ 1.40105582],\n",
       "       [ 0.92050769],\n",
       "       [-1.16517026],\n",
       "       [-0.44880677],\n",
       "       [-0.60634729],\n",
       "       [ 0.38051031],\n",
       "       [ 1.34061574],\n",
       "       [-0.92241915],\n",
       "       [ 1.09489216],\n",
       "       [ 1.57742193],\n",
       "       [ 0.78278359],\n",
       "       [-0.32198169],\n",
       "       [ 0.16451136],\n",
       "       [-1.79434152],\n",
       "       [ 0.299263  ],\n",
       "       [ 0.38249195],\n",
       "       [ 1.51599104],\n",
       "       [-0.73812646],\n",
       "       [ 0.84718694],\n",
       "       [-0.25064259],\n",
       "       [-0.83027281],\n",
       "       [ 2.31657431],\n",
       "       [-0.68065885],\n",
       "       [-1.05617997],\n",
       "       [-1.7269657 ],\n",
       "       [-0.51717341],\n",
       "       [ 1.90637446],\n",
       "       [ 0.29232725],\n",
       "       [-1.18300504],\n",
       "       [-0.53005408],\n",
       "       [ 0.04065875],\n",
       "       [ 1.66164171],\n",
       "       [ 1.36637709],\n",
       "       [ 0.5321059 ],\n",
       "       [ 1.24054283],\n",
       "       [-0.25955998],\n",
       "       [-0.95313459],\n",
       "       [ 0.04462203],\n",
       "       [ 0.28340986],\n",
       "       [ 1.31584522],\n",
       "       [ 0.48652814],\n",
       "       [ 0.61830732],\n",
       "       [ 1.02256224],\n",
       "       [-0.71533758],\n",
       "       [-1.73687391],\n",
       "       [ 1.00571828],\n",
       "       [ 0.47761076],\n",
       "       [ 1.92123678],\n",
       "       [-0.16642282],\n",
       "       [-0.01581804],\n",
       "       [ 1.08498396],\n",
       "       [ 1.23856119],\n",
       "       [-1.26623399],\n",
       "       [ 0.89870963],\n",
       "       [ 1.64182529],\n",
       "       [ 0.78575605],\n",
       "       [-1.1146384 ],\n",
       "       [ 0.33691419],\n",
       "       [ 1.79143924],\n",
       "       [-0.54788886],\n",
       "       [-1.03636355],\n",
       "       [-1.25929825],\n",
       "       [-1.16318862],\n",
       "       [-2.31254084],\n",
       "       [ 0.54201411],\n",
       "       [-0.09112043],\n",
       "       [ 1.72109096],\n",
       "       [ 0.17838285],\n",
       "       [ 0.96608545],\n",
       "       [ 0.44590449],\n",
       "       [-0.67174147],\n",
       "       [-1.19588571],\n",
       "       [-0.22686289],\n",
       "       [-0.02275379],\n",
       "       [-0.77280519],\n",
       "       [-1.60905802]])"
      ]
     },
     "execution_count": 60,
     "metadata": {},
     "output_type": "execute_result"
    }
   ],
   "source": [
    "X_train=scaler.fit_transform(X_train)"
   ]
  },
  {
   "cell_type": "code",
   "execution_count": 20,
   "id": "54bf4e99",
   "metadata": {},
   "outputs": [
    {
     "ename": "NotFittedError",
     "evalue": "This StandardScaler instance is not fitted yet. Call 'fit' with appropriate arguments before using this estimator.",
     "output_type": "error",
     "traceback": [
      "\u001b[31m---------------------------------------------------------------------------\u001b[39m",
      "\u001b[31mNotFittedError\u001b[39m                            Traceback (most recent call last)",
      "\u001b[36mCell\u001b[39m\u001b[36m \u001b[39m\u001b[32mIn[20]\u001b[39m\u001b[32m, line 1\u001b[39m\n\u001b[32m----> \u001b[39m\u001b[32m1\u001b[39m X_test=\u001b[43mscaler\u001b[49m\u001b[43m.\u001b[49m\u001b[43mtransform\u001b[49m\u001b[43m(\u001b[49m\u001b[43mX_test\u001b[49m\u001b[43m)\u001b[49m\n",
      "\u001b[36mFile \u001b[39m\u001b[32md:\\Data Science\\Practicee\\Model-Training\\.venv\\Lib\\site-packages\\sklearn\\utils\\_set_output.py:319\u001b[39m, in \u001b[36m_wrap_method_output.<locals>.wrapped\u001b[39m\u001b[34m(self, X, *args, **kwargs)\u001b[39m\n\u001b[32m    317\u001b[39m \u001b[38;5;129m@wraps\u001b[39m(f)\n\u001b[32m    318\u001b[39m \u001b[38;5;28;01mdef\u001b[39;00m\u001b[38;5;250m \u001b[39m\u001b[34mwrapped\u001b[39m(\u001b[38;5;28mself\u001b[39m, X, *args, **kwargs):\n\u001b[32m--> \u001b[39m\u001b[32m319\u001b[39m     data_to_wrap = \u001b[43mf\u001b[49m\u001b[43m(\u001b[49m\u001b[38;5;28;43mself\u001b[39;49m\u001b[43m,\u001b[49m\u001b[43m \u001b[49m\u001b[43mX\u001b[49m\u001b[43m,\u001b[49m\u001b[43m \u001b[49m\u001b[43m*\u001b[49m\u001b[43margs\u001b[49m\u001b[43m,\u001b[49m\u001b[43m \u001b[49m\u001b[43m*\u001b[49m\u001b[43m*\u001b[49m\u001b[43mkwargs\u001b[49m\u001b[43m)\u001b[49m\n\u001b[32m    320\u001b[39m     \u001b[38;5;28;01mif\u001b[39;00m \u001b[38;5;28misinstance\u001b[39m(data_to_wrap, \u001b[38;5;28mtuple\u001b[39m):\n\u001b[32m    321\u001b[39m         \u001b[38;5;66;03m# only wrap the first output for cross decomposition\u001b[39;00m\n\u001b[32m    322\u001b[39m         return_tuple = (\n\u001b[32m    323\u001b[39m             _wrap_data_with_container(method, data_to_wrap[\u001b[32m0\u001b[39m], X, \u001b[38;5;28mself\u001b[39m),\n\u001b[32m    324\u001b[39m             *data_to_wrap[\u001b[32m1\u001b[39m:],\n\u001b[32m    325\u001b[39m         )\n",
      "\u001b[36mFile \u001b[39m\u001b[32md:\\Data Science\\Practicee\\Model-Training\\.venv\\Lib\\site-packages\\sklearn\\preprocessing\\_data.py:1059\u001b[39m, in \u001b[36mStandardScaler.transform\u001b[39m\u001b[34m(self, X, copy)\u001b[39m\n\u001b[32m   1044\u001b[39m \u001b[38;5;28;01mdef\u001b[39;00m\u001b[38;5;250m \u001b[39m\u001b[34mtransform\u001b[39m(\u001b[38;5;28mself\u001b[39m, X, copy=\u001b[38;5;28;01mNone\u001b[39;00m):\n\u001b[32m   1045\u001b[39m \u001b[38;5;250m    \u001b[39m\u001b[33;03m\"\"\"Perform standardization by centering and scaling.\u001b[39;00m\n\u001b[32m   1046\u001b[39m \n\u001b[32m   1047\u001b[39m \u001b[33;03m    Parameters\u001b[39;00m\n\u001b[32m   (...)\u001b[39m\u001b[32m   1057\u001b[39m \u001b[33;03m        Transformed array.\u001b[39;00m\n\u001b[32m   1058\u001b[39m \u001b[33;03m    \"\"\"\u001b[39;00m\n\u001b[32m-> \u001b[39m\u001b[32m1059\u001b[39m     \u001b[43mcheck_is_fitted\u001b[49m\u001b[43m(\u001b[49m\u001b[38;5;28;43mself\u001b[39;49m\u001b[43m)\u001b[49m\n\u001b[32m   1061\u001b[39m     copy = copy \u001b[38;5;28;01mif\u001b[39;00m copy \u001b[38;5;129;01mis\u001b[39;00m \u001b[38;5;129;01mnot\u001b[39;00m \u001b[38;5;28;01mNone\u001b[39;00m \u001b[38;5;28;01melse\u001b[39;00m \u001b[38;5;28mself\u001b[39m.copy\n\u001b[32m   1062\u001b[39m     X = validate_data(\n\u001b[32m   1063\u001b[39m         \u001b[38;5;28mself\u001b[39m,\n\u001b[32m   1064\u001b[39m         X,\n\u001b[32m   (...)\u001b[39m\u001b[32m   1070\u001b[39m         ensure_all_finite=\u001b[33m\"\u001b[39m\u001b[33mallow-nan\u001b[39m\u001b[33m\"\u001b[39m,\n\u001b[32m   1071\u001b[39m     )\n",
      "\u001b[36mFile \u001b[39m\u001b[32md:\\Data Science\\Practicee\\Model-Training\\.venv\\Lib\\site-packages\\sklearn\\utils\\validation.py:1757\u001b[39m, in \u001b[36mcheck_is_fitted\u001b[39m\u001b[34m(estimator, attributes, msg, all_or_any)\u001b[39m\n\u001b[32m   1754\u001b[39m     \u001b[38;5;28;01mreturn\u001b[39;00m\n\u001b[32m   1756\u001b[39m \u001b[38;5;28;01mif\u001b[39;00m \u001b[38;5;129;01mnot\u001b[39;00m _is_fitted(estimator, attributes, all_or_any):\n\u001b[32m-> \u001b[39m\u001b[32m1757\u001b[39m     \u001b[38;5;28;01mraise\u001b[39;00m NotFittedError(msg % {\u001b[33m\"\u001b[39m\u001b[33mname\u001b[39m\u001b[33m\"\u001b[39m: \u001b[38;5;28mtype\u001b[39m(estimator).\u001b[34m__name__\u001b[39m})\n",
      "\u001b[31mNotFittedError\u001b[39m: This StandardScaler instance is not fitted yet. Call 'fit' with appropriate arguments before using this estimator."
     ]
    }
   ],
   "source": [
    "X_test=scaler.transform(X_test)"
   ]
  },
  {
   "cell_type": "code",
   "execution_count": 21,
   "id": "e18a2f2f",
   "metadata": {},
   "outputs": [
    {
     "data": {
      "text/plain": [
       "<matplotlib.collections.PathCollection at 0x1a20c9d9590>"
      ]
     },
     "execution_count": 21,
     "metadata": {},
     "output_type": "execute_result"
    },
    {
     "data": {
      "image/png": "[encoded data removed]",
      "text/plain": [
       "<Figure size 640x480 with 1 Axes>"
      ]
     },
     "metadata": {},
     "output_type": "display_data"
    }
   ],
   "source": [
    "plt.scatter(X_train,Y_train)"
   ]
  },
  {
   "cell_type": "markdown",
   "id": "d4cfa40e",
   "metadata": {},
   "source": [
    "### Training The model"
   ]
  },
  {
   "cell_type": "code",
   "execution_count": 22,
   "id": "52360434",
   "metadata": {},
   "outputs": [],
   "source": [
    "from sklearn.linear_model import LinearRegression"
   ]
  },
  {
   "cell_type": "code",
   "execution_count": 23,
   "id": "5c25824d",
   "metadata": {},
   "outputs": [],
   "source": [
    "regressor=LinearRegression()"
   ]
  },
  {
   "cell_type": "code",
   "execution_count": 24,
   "id": "714a47e1",
   "metadata": {},
   "outputs": [
    {
     "data": {
      "text/html": [
       "<style>#sk-container-id-1 {\n",
       "  /* Definition of color scheme common for light and dark mode */\n",
       "  --sklearn-color-text: #000;\n",
       "  --sklearn-color-text-muted: #666;\n",
       "  --sklearn-color-line: gray;\n",
       "  /* Definition of color scheme for unfitted estimators */\n",
       "  --sklearn-color-unfitted-level-0: #fff5e6;\n",
       "  --sklearn-color-unfitted-level-1: #f6e4d2;\n",
       "  --sklearn-color-unfitted-level-2: #ffe0b3;\n",
       "  --sklearn-color-unfitted-level-3: chocolate;\n",
       "  /* Definition of color scheme for fitted estimators */\n",
       "  --sklearn-color-fitted-level-0: #f0f8ff;\n",
       "  --sklearn-color-fitted-level-1: #d4ebff;\n",
       "  --sklearn-color-fitted-level-2: #b3dbfd;\n",
       "  --sklearn-color-fitted-level-3: cornflowerblue;\n",
       "\n",
       "  /* Specific color for light theme */\n",
       "  --sklearn-color-text-on-default-background: var(--sg-text-color, var(--theme-code-foreground, var(--jp-content-font-color1, black)));\n",
       "  --sklearn-color-background: var(--sg-background-color, var(--theme-background, var(--jp-layout-color0, white)));\n",
       "  --sklearn-color-border-box: var(--sg-text-color, var(--theme-code-foreground, var(--jp-content-font-color1, black)));\n",
       "  --sklearn-color-icon: #696969;\n",
       "\n",
       "  @media (prefers-color-scheme: dark) {\n",
       "    /* Redefinition of color scheme for dark theme */\n",
       "    --sklearn-color-text-on-default-background: var(--sg-text-color, var(--theme-code-foreground, var(--jp-content-font-color1, white)));\n",
       "    --sklearn-color-background: var(--sg-background-color, var(--theme-background, var(--jp-layout-color0, #111)));\n",
       "    --sklearn-color-border-box: var(--sg-text-color, var(--theme-code-foreground, var(--jp-content-font-color1, white)));\n",
       "    --sklearn-color-icon: #878787;\n",
       "  }\n",
       "}\n",
       "\n",
       "#sk-container-id-1 {\n",
       "  color: var(--sklearn-color-text);\n",
       "}\n",
       "\n",
       "#sk-container-id-1 pre {\n",
       "  padding: 0;\n",
       "}\n",
       "\n",
       "#sk-container-id-1 input.sk-hidden--visually {\n",
       "  border: 0;\n",
       "  clip: rect(1px 1px 1px 1px);\n",
       "  clip: rect(1px, 1px, 1px, 1px);\n",
       "  height: 1px;\n",
       "  margin: -1px;\n",
       "  overflow: hidden;\n",
       "  padding: 0;\n",
       "  position: absolute;\n",
       "  width: 1px;\n",
       "}\n",
       "\n",
       "#sk-container-id-1 div.sk-dashed-wrapped {\n",
       "  border: 1px dashed var(--sklearn-color-line);\n",
       "  margin: 0 0.4em 0.5em 0.4em;\n",
       "  box-sizing: border-box;\n",
       "  padding-bottom: 0.4em;\n",
       "  background-color: var(--sklearn-color-background);\n",
       "}\n",
       "\n",
       "#sk-container-id-1 div.sk-container {\n",
       "  /* jupyter's `normalize.less` sets `[hidden] { display: none; }`\n",
       "     but bootstrap.min.css set `[hidden] { display: none !important; }`\n",
       "     so we also need the `!important` here to be able to override the\n",
       "     default hidden behavior on the sphinx rendered scikit-learn.org.\n",
       "     See: https://github.com/scikit-learn/scikit-learn/issues/21755 */\n",
       "  display: inline-block !important;\n",
       "  position: relative;\n",
       "}\n",
       "\n",
       "#sk-container-id-1 div.sk-text-repr-fallback {\n",
       "  display: none;\n",
       "}\n",
       "\n",
       "div.sk-parallel-item,\n",
       "div.sk-serial,\n",
       "div.sk-item {\n",
       "  /* draw centered vertical line to link estimators */\n",
       "  background-image: linear-gradient(var(--sklearn-color-text-on-default-background), var(--sklearn-color-text-on-default-background));\n",
       "  background-size: 2px 100%;\n",
       "  background-repeat: no-repeat;\n",
       "  background-position: center center;\n",
       "}\n",
       "\n",
       "/* Parallel-specific style estimator block */\n",
       "\n",
       "#sk-container-id-1 div.sk-parallel-item::after {\n",
       "  content: \"\";\n",
       "  width: 100%;\n",
       "  border-bottom: 2px solid var(--sklearn-color-text-on-default-background);\n",
       "  flex-grow: 1;\n",
       "}\n",
       "\n",
       "#sk-container-id-1 div.sk-parallel {\n",
       "  display: flex;\n",
       "  align-items: stretch;\n",
       "  justify-content: center;\n",
       "  background-color: var(--sklearn-color-background);\n",
       "  position: relative;\n",
       "}\n",
       "\n",
       "#sk-container-id-1 div.sk-parallel-item {\n",
       "  display: flex;\n",
       "  flex-direction: column;\n",
       "}\n",
       "\n",
       "#sk-container-id-1 div.sk-parallel-item:first-child::after {\n",
       "  align-self: flex-end;\n",
       "  width: 50%;\n",
       "}\n",
       "\n",
       "#sk-container-id-1 div.sk-parallel-item:last-child::after {\n",
       "  align-self: flex-start;\n",
       "  width: 50%;\n",
       "}\n",
       "\n",
       "#sk-container-id-1 div.sk-parallel-item:only-child::after {\n",
       "  width: 0;\n",
       "}\n",
       "\n",
       "/* Serial-specific style estimator block */\n",
       "\n",
       "#sk-container-id-1 div.sk-serial {\n",
       "  display: flex;\n",
       "  flex-direction: column;\n",
       "  align-items: center;\n",
       "  background-color: var(--sklearn-color-background);\n",
       "  padding-right: 1em;\n",
       "  padding-left: 1em;\n",
       "}\n",
       "\n",
       "\n",
       "/* Toggleable style: style used for estimator/Pipeline/ColumnTransformer box that is\n",
       "clickable and can be expanded/collapsed.\n",
       "- Pipeline and ColumnTransformer use this feature and define the default style\n",
       "- Estimators will overwrite some part of the style using the `sk-estimator` class\n",
       "*/\n",
       "\n",
       "/* Pipeline and ColumnTransformer style (default) */\n",
       "\n",
       "#sk-container-id-1 div.sk-toggleable {\n",
       "  /* Default theme specific background. It is overwritten whether we have a\n",
       "  specific estimator or a Pipeline/ColumnTransformer */\n",
       "  background-color: var(--sklearn-color-background);\n",
       "}\n",
       "\n",
       "/* Toggleable label */\n",
       "#sk-container-id-1 label.sk-toggleable__label {\n",
       "  cursor: pointer;\n",
       "  display: flex;\n",
       "  width: 100%;\n",
       "  margin-bottom: 0;\n",
       "  padding: 0.5em;\n",
       "  box-sizing: border-box;\n",
       "  text-align: center;\n",
       "  align-items: start;\n",
       "  justify-content: space-between;\n",
       "  gap: 0.5em;\n",
       "}\n",
       "\n",
       "#sk-container-id-1 label.sk-toggleable__label .caption {\n",
       "  font-size: 0.6rem;\n",
       "  font-weight: lighter;\n",
       "  color: var(--sklearn-color-text-muted);\n",
       "}\n",
       "\n",
       "#sk-container-id-1 label.sk-toggleable__label-arrow:before {\n",
       "  /* Arrow on the left of the label */\n",
       "  content: \"▸\";\n",
       "  float: left;\n",
       "  margin-right: 0.25em;\n",
       "  color: var(--sklearn-color-icon);\n",
       "}\n",
       "\n",
       "#sk-container-id-1 label.sk-toggleable__label-arrow:hover:before {\n",
       "  color: var(--sklearn-color-text);\n",
       "}\n",
       "\n",
       "/* Toggleable content - dropdown */\n",
       "\n",
       "#sk-container-id-1 div.sk-toggleable__content {\n",
       "  max-height: 0;\n",
       "  max-width: 0;\n",
       "  overflow: hidden;\n",
       "  text-align: left;\n",
       "  /* unfitted */\n",
       "  background-color: var(--sklearn-color-unfitted-level-0);\n",
       "}\n",
       "\n",
       "#sk-container-id-1 div.sk-toggleable__content.fitted {\n",
       "  /* fitted */\n",
       "  background-color: var(--sklearn-color-fitted-level-0);\n",
       "}\n",
       "\n",
       "#sk-container-id-1 div.sk-toggleable__content pre {\n",
       "  margin: 0.2em;\n",
       "  border-radius: 0.25em;\n",
       "  color: var(--sklearn-color-text);\n",
       "  /* unfitted */\n",
       "  background-color: var(--sklearn-color-unfitted-level-0);\n",
       "}\n",
       "\n",
       "#sk-container-id-1 div.sk-toggleable__content.fitted pre {\n",
       "  /* unfitted */\n",
       "  background-color: var(--sklearn-color-fitted-level-0);\n",
       "}\n",
       "\n",
       "#sk-container-id-1 input.sk-toggleable__control:checked~div.sk-toggleable__content {\n",
       "  /* Expand drop-down */\n",
       "  max-height: 200px;\n",
       "  max-width: 100%;\n",
       "  overflow: auto;\n",
       "}\n",
       "\n",
       "#sk-container-id-1 input.sk-toggleable__control:checked~label.sk-toggleable__label-arrow:before {\n",
       "  content: \"▾\";\n",
       "}\n",
       "\n",
       "/* Pipeline/ColumnTransformer-specific style */\n",
       "\n",
       "#sk-container-id-1 div.sk-label input.sk-toggleable__control:checked~label.sk-toggleable__label {\n",
       "  color: var(--sklearn-color-text);\n",
       "  background-color: var(--sklearn-color-unfitted-level-2);\n",
       "}\n",
       "\n",
       "#sk-container-id-1 div.sk-label.fitted input.sk-toggleable__control:checked~label.sk-toggleable__label {\n",
       "  background-color: var(--sklearn-color-fitted-level-2);\n",
       "}\n",
       "\n",
       "/* Estimator-specific style */\n",
       "\n",
       "/* Colorize estimator box */\n",
       "#sk-container-id-1 div.sk-estimator input.sk-toggleable__control:checked~label.sk-toggleable__label {\n",
       "  /* unfitted */\n",
       "  background-color: var(--sklearn-color-unfitted-level-2);\n",
       "}\n",
       "\n",
       "#sk-container-id-1 div.sk-estimator.fitted input.sk-toggleable__control:checked~label.sk-toggleable__label {\n",
       "  /* fitted */\n",
       "  background-color: var(--sklearn-color-fitted-level-2);\n",
       "}\n",
       "\n",
       "#sk-container-id-1 div.sk-label label.sk-toggleable__label,\n",
       "#sk-container-id-1 div.sk-label label {\n",
       "  /* The background is the default theme color */\n",
       "  color: var(--sklearn-color-text-on-default-background);\n",
       "}\n",
       "\n",
       "/* On hover, darken the color of the background */\n",
       "#sk-container-id-1 div.sk-label:hover label.sk-toggleable__label {\n",
       "  color: var(--sklearn-color-text);\n",
       "  background-color: var(--sklearn-color-unfitted-level-2);\n",
       "}\n",
       "\n",
       "/* Label box, darken color on hover, fitted */\n",
       "#sk-container-id-1 div.sk-label.fitted:hover label.sk-toggleable__label.fitted {\n",
       "  color: var(--sklearn-color-text);\n",
       "  background-color: var(--sklearn-color-fitted-level-2);\n",
       "}\n",
       "\n",
       "/* Estimator label */\n",
       "\n",
       "#sk-container-id-1 div.sk-label label {\n",
       "  font-family: monospace;\n",
       "  font-weight: bold;\n",
       "  display: inline-block;\n",
       "  line-height: 1.2em;\n",
       "}\n",
       "\n",
       "#sk-container-id-1 div.sk-label-container {\n",
       "  text-align: center;\n",
       "}\n",
       "\n",
       "/* Estimator-specific */\n",
       "#sk-container-id-1 div.sk-estimator {\n",
       "  font-family: monospace;\n",
       "  border: 1px dotted var(--sklearn-color-border-box);\n",
       "  border-radius: 0.25em;\n",
       "  box-sizing: border-box;\n",
       "  margin-bottom: 0.5em;\n",
       "  /* unfitted */\n",
       "  background-color: var(--sklearn-color-unfitted-level-0);\n",
       "}\n",
       "\n",
       "#sk-container-id-1 div.sk-estimator.fitted {\n",
       "  /* fitted */\n",
       "  background-color: var(--sklearn-color-fitted-level-0);\n",
       "}\n",
       "\n",
       "/* on hover */\n",
       "#sk-container-id-1 div.sk-estimator:hover {\n",
       "  /* unfitted */\n",
       "  background-color: var(--sklearn-color-unfitted-level-2);\n",
       "}\n",
       "\n",
       "#sk-container-id-1 div.sk-estimator.fitted:hover {\n",
       "  /* fitted */\n",
       "  background-color: var(--sklearn-color-fitted-level-2);\n",
       "}\n",
       "\n",
       "/* Specification for estimator info (e.g. \"i\" and \"?\") */\n",
       "\n",
       "/* Common style for \"i\" and \"?\" */\n",
       "\n",
       ".sk-estimator-doc-link,\n",
       "a:link.sk-estimator-doc-link,\n",
       "a:visited.sk-estimator-doc-link {\n",
       "  float: right;\n",
       "  font-size: smaller;\n",
       "  line-height: 1em;\n",
       "  font-family: monospace;\n",
       "  background-color: var(--sklearn-color-background);\n",
       "  border-radius: 1em;\n",
       "  height: 1em;\n",
       "  width: 1em;\n",
       "  text-decoration: none !important;\n",
       "  margin-left: 0.5em;\n",
       "  text-align: center;\n",
       "  /* unfitted */\n",
       "  border: var(--sklearn-color-unfitted-level-1) 1pt solid;\n",
       "  color: var(--sklearn-color-unfitted-level-1);\n",
       "}\n",
       "\n",
       ".sk-estimator-doc-link.fitted,\n",
       "a:link.sk-estimator-doc-link.fitted,\n",
       "a:visited.sk-estimator-doc-link.fitted {\n",
       "  /* fitted */\n",
       "  border: var(--sklearn-color-fitted-level-1) 1pt solid;\n",
       "  color: var(--sklearn-color-fitted-level-1);\n",
       "}\n",
       "\n",
       "/* On hover */\n",
       "div.sk-estimator:hover .sk-estimator-doc-link:hover,\n",
       ".sk-estimator-doc-link:hover,\n",
       "div.sk-label-container:hover .sk-estimator-doc-link:hover,\n",
       ".sk-estimator-doc-link:hover {\n",
       "  /* unfitted */\n",
       "  background-color: var(--sklearn-color-unfitted-level-3);\n",
       "  color: var(--sklearn-color-background);\n",
       "  text-decoration: none;\n",
       "}\n",
       "\n",
       "div.sk-estimator.fitted:hover .sk-estimator-doc-link.fitted:hover,\n",
       ".sk-estimator-doc-link.fitted:hover,\n",
       "div.sk-label-container:hover .sk-estimator-doc-link.fitted:hover,\n",
       ".sk-estimator-doc-link.fitted:hover {\n",
       "  /* fitted */\n",
       "  background-color: var(--sklearn-color-fitted-level-3);\n",
       "  color: var(--sklearn-color-background);\n",
       "  text-decoration: none;\n",
       "}\n",
       "\n",
       "/* Span, style for the box shown on hovering the info icon */\n",
       ".sk-estimator-doc-link span {\n",
       "  display: none;\n",
       "  z-index: 9999;\n",
       "  position: relative;\n",
       "  font-weight: normal;\n",
       "  right: .2ex;\n",
       "  padding: .5ex;\n",
       "  margin: .5ex;\n",
       "  width: min-content;\n",
       "  min-width: 20ex;\n",
       "  max-width: 50ex;\n",
       "  color: var(--sklearn-color-text);\n",
       "  box-shadow: 2pt 2pt 4pt #999;\n",
       "  /* unfitted */\n",
       "  background: var(--sklearn-color-unfitted-level-0);\n",
       "  border: .5pt solid var(--sklearn-color-unfitted-level-3);\n",
       "}\n",
       "\n",
       ".sk-estimator-doc-link.fitted span {\n",
       "  /* fitted */\n",
       "  background: var(--sklearn-color-fitted-level-0);\n",
       "  border: var(--sklearn-color-fitted-level-3);\n",
       "}\n",
       "\n",
       ".sk-estimator-doc-link:hover span {\n",
       "  display: block;\n",
       "}\n",
       "\n",
       "/* \"?\"-specific style due to the `<a>` HTML tag */\n",
       "\n",
       "#sk-container-id-1 a.estimator_doc_link {\n",
       "  float: right;\n",
       "  font-size: 1rem;\n",
       "  line-height: 1em;\n",
       "  font-family: monospace;\n",
       "  background-color: var(--sklearn-color-background);\n",
       "  border-radius: 1rem;\n",
       "  height: 1rem;\n",
       "  width: 1rem;\n",
       "  text-decoration: none;\n",
       "  /* unfitted */\n",
       "  color: var(--sklearn-color-unfitted-level-1);\n",
       "  border: var(--sklearn-color-unfitted-level-1) 1pt solid;\n",
       "}\n",
       "\n",
       "#sk-container-id-1 a.estimator_doc_link.fitted {\n",
       "  /* fitted */\n",
       "  border: var(--sklearn-color-fitted-level-1) 1pt solid;\n",
       "  color: var(--sklearn-color-fitted-level-1);\n",
       "}\n",
       "\n",
       "/* On hover */\n",
       "#sk-container-id-1 a.estimator_doc_link:hover {\n",
       "  /* unfitted */\n",
       "  background-color: var(--sklearn-color-unfitted-level-3);\n",
       "  color: var(--sklearn-color-background);\n",
       "  text-decoration: none;\n",
       "}\n",
       "\n",
       "#sk-container-id-1 a.estimator_doc_link.fitted:hover {\n",
       "  /* fitted */\n",
       "  background-color: var(--sklearn-color-fitted-level-3);\n",
       "}\n",
       "</style><div id=\"sk-container-id-1\" class=\"sk-top-container\"><div class=\"sk-text-repr-fallback\"><pre>LinearRegression()</pre><b>In a Jupyter environment, please rerun this cell to show the HTML representation or trust the notebook. <br />On GitHub, the HTML representation is unable to render, please try loading this page with nbviewer.org.</b></div><div class=\"sk-container\" hidden><div class=\"sk-item\"><div class=\"sk-estimator fitted sk-toggleable\"><input class=\"sk-toggleable__control sk-hidden--visually\" id=\"sk-estimator-id-1\" type=\"checkbox\" checked><label for=\"sk-estimator-id-1\" class=\"sk-toggleable__label fitted sk-toggleable__label-arrow\"><div><div>LinearRegression</div></div><div><a class=\"sk-estimator-doc-link fitted\" rel=\"noreferrer\" target=\"_blank\" href=\"https://scikit-learn.org/1.6/modules/generated/sklearn.linear_model.LinearRegression.html\">?<span>Documentation for LinearRegression</span></a><span class=\"sk-estimator-doc-link fitted\">i<span>Fitted</span></span></div></label><div class=\"sk-toggleable__content fitted\"><pre>LinearRegression()</pre></div> </div></div></div></div>"
      ],
      "text/plain": [
       "LinearRegression()"
      ]
     },
     "execution_count": 24,
     "metadata": {},
     "output_type": "execute_result"
    }
   ],
   "source": [
    "regressor.fit(X_train,Y_train)"
   ]
  },
  {
   "cell_type": "code",
   "execution_count": 25,
   "id": "f75ead0b",
   "metadata": {},
   "outputs": [
    {
     "data": {
      "text/plain": [
       "array([0.01664428])"
      ]
     },
     "execution_count": 25,
     "metadata": {},
     "output_type": "execute_result"
    }
   ],
   "source": [
    " regressor.coef_"
   ]
  },
  {
   "cell_type": "code",
   "execution_count": 27,
   "id": "aba4fd14",
   "metadata": {},
   "outputs": [
    {
     "name": "stdout",
     "output_type": "stream",
     "text": [
      "Regressor Coefficient  [0.01664428]\n"
     ]
    }
   ],
   "source": [
    "print(\"Regressor Coefficient \",regressor.coef_)"
   ]
  },
  {
   "cell_type": "code",
   "execution_count": 28,
   "id": "0d424be2",
   "metadata": {},
   "outputs": [
    {
     "name": "stdout",
     "output_type": "stream",
     "text": [
      "Intercept 4.427914053907045\n"
     ]
    }
   ],
   "source": [
    "print(\"Intercept\",regressor.intercept_)"
   ]
  },
  {
   "cell_type": "code",
   "execution_count": 29,
   "id": "25e446fd",
   "metadata": {},
   "outputs": [
    {
     "data": {
      "text/plain": [
       "[<matplotlib.lines.Line2D at 0x1a20ebac550>]"
      ]
     },
     "execution_count": 29,
     "metadata": {},
     "output_type": "execute_result"
    },
    {
     "data": {
      "image/png": "[encoded data removed]",
      "text/plain": [
       "<Figure size 640x480 with 1 Axes>"
      ]
     },
     "metadata": {},
     "output_type": "display_data"
    }
   ],
   "source": [
    "plt.scatter(X_train,Y_train)\n",
    "plt.plot(X_train,regressor.predict(X_train),\"r\")"
   ]
  },
  {
   "cell_type": "code",
   "execution_count": 30,
   "id": "3223f6f2",
   "metadata": {},
   "outputs": [],
   "source": [
    "Y_pred_test=regressor.predict(X_test)"
   ]
  },
  {
   "cell_type": "code",
   "execution_count": 31,
   "id": "eb4ef980",
   "metadata": {},
   "outputs": [
    {
     "data": {
      "text/plain": [
       "(array([5.54191579, 5.53891982, 5.37464076, 5.69737337, 5.63429155,\n",
       "        5.42640448, 5.86731148, 5.51678292, 5.62430498, 5.995306  ,\n",
       "        5.42756958, 5.41958032, 5.85549404, 5.45653062, 5.60849291,\n",
       "        5.60366607, 5.83968198, 5.70769283, 5.57220838, 5.55539765,\n",
       "        5.7394834 , 5.93804968, 5.3992743 , 5.41442059, 5.4953118 ,\n",
       "        5.57753455, 5.73915052, 5.79640684, 5.31671866, 5.36565285,\n",
       "        5.38978706, 5.43722326, 5.91574634, 5.3992743 , 5.82104038,\n",
       "        5.56421912, 5.68255996, 5.57237482, 5.52610372, 5.55406611,\n",
       "        5.9120846 , 5.42906756, 5.34617904, 5.30223814, 5.55989161,\n",
       "        5.37397499, 5.35999379, 5.48116416, 5.58652246, 5.58618957,\n",
       "        5.56904597, 5.59384594, 5.49331449, 5.61964458, 5.59001776,\n",
       "        5.36365554, 5.88145912, 5.6620875 , 5.5808634 , 5.63728752,\n",
       "        5.50196951, 5.7488042 , 5.54224867, 5.38312935, 5.55290101,\n",
       "        5.59351306, 5.32021396, 5.79524174, 5.43173065, 5.65293314,\n",
       "        5.56122315, 5.6609224 , 5.83968198, 5.77560149, 5.48066483,\n",
       "        5.71002303, 5.53825405, 5.96751005, 5.28076702, 5.4097602 ,\n",
       "        5.66475058, 5.77626726, 5.45353465, 5.88012758, 5.3934488 ,\n",
       "        5.87729805, 5.6481063 , 5.60849291, 5.41092529, 5.54424599,\n",
       "        5.32537369, 5.41308905, 5.68722036, 5.59534393, 5.50729568,\n",
       "        5.34035354, 5.77843102, 5.63828617, 5.61764727, 5.62513719,\n",
       "        5.62963115, 5.5637198 , 5.78309142, 5.62963115, 5.54058424,\n",
       "        5.15693357, 5.38213069, 5.6041654 , 5.98498655, 5.28126635,\n",
       "        5.94237719, 5.74431024, 5.41625146, 5.54557753, 5.27094689,\n",
       "        5.45936015, 5.94953423, 5.57487146, 5.758125  , 5.7441438 ]),\n",
       " 110    5.13\n",
       " 419    5.32\n",
       " 565    5.36\n",
       " 77     5.40\n",
       " 181    6.09\n",
       "        ... \n",
       " 399    5.77\n",
       " 340    5.90\n",
       " 148    5.90\n",
       " 494    5.54\n",
       " 439    5.79\n",
       " Name: Height, Length: 120, dtype: float64)"
      ]
     },
     "execution_count": 31,
     "metadata": {},
     "output_type": "execute_result"
    }
   ],
   "source": [
    "Y_pred_test,Y_test"
   ]
  },
  {
   "cell_type": "code",
   "execution_count": 32,
   "id": "68dbf954",
   "metadata": {},
   "outputs": [
    {
     "data": {
      "text/plain": [
       "[<matplotlib.lines.Line2D at 0x1a20ebeb610>]"
      ]
     },
     "execution_count": 32,
     "metadata": {},
     "output_type": "execute_result"
    },
    {
     "data": {
      "image/png": "[encoded data removed]",
      "text/plain": [
       "<Figure size 640x480 with 1 Axes>"
      ]
     },
     "metadata": {},
     "output_type": "display_data"
    }
   ],
   "source": [
    "plt.scatter(X_test,Y_test)\n",
    "plt.plot(X_test,regressor.predict(X_test),\"r\")"
   ]
  },
  {
   "cell_type": "code",
   "execution_count": 33,
   "id": "847f517e",
   "metadata": {},
   "outputs": [],
   "source": [
    "from sklearn.metrics import mean_squared_error,mean_absolute_error"
   ]
  },
  {
   "cell_type": "code",
   "execution_count": 34,
   "id": "dc3adc6e",
   "metadata": {},
   "outputs": [
    {
     "name": "stdout",
     "output_type": "stream",
     "text": [
      "0.09577841126504737\n",
      "0.25343706554371576\n",
      "0.30948087382752326\n"
     ]
    }
   ],
   "source": [
    "mse=mean_squared_error(Y_test,Y_pred_test)\n",
    "mae=mean_absolute_error(Y_test,Y_pred_test)\n",
    "rmse=np.sqrt(mse)\n",
    "print(mse)\n",
    "print(mae)\n",
    "print(rmse)"
   ]
  },
  {
   "cell_type": "markdown",
   "id": "46a3781f",
   "metadata": {},
   "source": [
    "## R square\n",
    "#### Formula\n",
    " ##### R^2= 1-SSR/SST\n",
    " R=coefficient of Determination SSR = sum of squares of residuals SST= total sum of squares"
   ]
  },
  {
   "cell_type": "code",
   "execution_count": 36,
   "id": "d0dde766",
   "metadata": {},
   "outputs": [],
   "source": [
    "from sklearn.metrics import r2_score\n",
    "score=r2_score(Y_test,Y_pred_test)"
   ]
  },
  {
   "cell_type": "code",
   "execution_count": 37,
   "id": "8fe9c649",
   "metadata": {},
   "outputs": [
    {
     "data": {
      "text/plain": [
       "0.10026292462150077"
      ]
     },
     "execution_count": 37,
     "metadata": {},
     "output_type": "execute_result"
    }
   ],
   "source": [
    "score"
   ]
  },
  {
   "cell_type": "markdown",
   "id": "13f66b24",
   "metadata": {},
   "source": [
    "## Adjusted R square\n",
    "#### Adjusted R^2=1 -[(1-R2)*(n-1)/(n-k-1)]\n",
    "Where:R2:The R2 of the model n :The number of observations k:The number of predicator variables"
   ]
  },
  {
   "cell_type": "code",
   "execution_count": 38,
   "id": "809d6cdc",
   "metadata": {},
   "outputs": [
    {
     "data": {
      "text/plain": [
       "0.09263803415219152"
      ]
     },
     "execution_count": 38,
     "metadata": {},
     "output_type": "execute_result"
    }
   ],
   "source": [
    "1-(1-score)*(len(Y_test)-1)/(len(Y_test)-X_test.shape[1]-1)"
   ]
  },
  {
   "cell_type": "code",
   "execution_count": null,
   "id": "3b0235be",
   "metadata": {},
   "outputs": [],
   "source": []
  }
 ],
 "metadata": {
  "kernelspec": {
   "display_name": ".venv",
   "language": "python",
   "name": "python3"
  },
  "language_info": {
   "codemirror_mode": {
    "name": "ipython",
    "version": 3
   },
   "file_extension": ".py",
   "mimetype": "text/x-python",
   "name": "python",
   "nbconvert_exporter": "python",
   "pygments_lexer": "ipython3",
   "version": "3.13.3"
  }
 },
 "nbformat": 4,
 "nbformat_minor": 5
}
